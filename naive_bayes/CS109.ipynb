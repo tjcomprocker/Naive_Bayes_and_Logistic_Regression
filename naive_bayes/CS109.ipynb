{
 "cells": [
  {
   "cell_type": "code",
   "execution_count": 232,
   "metadata": {},
   "outputs": [],
   "source": [
    "df_x = []\n",
    "df_y = []\n",
    "with open(\"simple-train.txt\") as fp:  \n",
    "    content = fp.readlines()\n",
    "    for lines in content[2:-1]:\n",
    "        lines = lines[:-1].split(\" \")\n",
    "        lines[-2] = lines[-2][:-1]\n",
    "        df_x.append(lines[:-1])\n",
    "        df_y.append(lines[-1])\n",
    "\n",
    "temp = content[-1].split(\" \")\n",
    "temp[-2] = temp[-2][:-1]\n",
    "df_x.append(temp[:-1])\n",
    "df_y.append(temp[-1])"
   ]
  },
  {
   "cell_type": "code",
   "execution_count": 233,
   "metadata": {},
   "outputs": [],
   "source": [
    "m = len(df_x[1])\n",
    "jp = [[],[]]\n",
    "jp_add_1 = [[],[]]\n",
    "\n",
    "for i in range(0,2):\n",
    "    for j in range(0,m):\n",
    "        temp = []\n",
    "        temp.append(0.0)\n",
    "        temp.append(0.0)\n",
    "        jp[i].append(temp)\n",
    "        temp = []\n",
    "        temp.append(1.0)\n",
    "        temp.append(1.0)\n",
    "        jp_add_1[i].append(temp)\n",
    "\n",
    "py = 0\n",
    "\n",
    "for x in df_y:\n",
    "    if x == '1':\n",
    "        py += 1\n",
    "        \n",
    "py = float(py)/len(df_y)\n",
    "\n",
    "for rows in range(0,len(df_x)):\n",
    "    for features in range(0,len(df_x[rows])):\n",
    "        if df_x[rows][features] == '0':\n",
    "            jp[int(df_y[rows])][features][0] += 1\n",
    "            jp_add_1[int(df_y[rows])][features][0] += 1\n",
    "        else:\n",
    "            jp[int(df_y[rows])][features][1] += 1\n",
    "            jp_add_1[int(df_y[rows])][features][1] += 1"
   ]
  },
  {
   "cell_type": "code",
   "execution_count": 234,
   "metadata": {},
   "outputs": [],
   "source": [
    "tf_x = []\n",
    "tf_y = []\n",
    "with open(\"simple-test.txt\") as fp:  \n",
    "    content = fp.readlines()\n",
    "    for lines in content[2:-1]:\n",
    "        lines = lines[:-1].split(\" \")\n",
    "        lines[-2] = lines[-2][:-1]\n",
    "        tf_x.append(lines[:-1])\n",
    "        tf_y.append(lines[-1])\n",
    "\n",
    "temp = content[-1].split(\" \")\n",
    "temp[-2] = temp[-2][:-1]\n",
    "tf_x.append(temp[:-1])\n",
    "tf_y.append(temp[-1])"
   ]
  },
  {
   "cell_type": "code",
   "execution_count": 235,
   "metadata": {},
   "outputs": [
    {
     "name": "stdout",
     "output_type": "stream",
     "text": [
      "Without Add-1 Smoothing\n",
      "Predictions of class 0 -- Tested - 2 and Correct - 2\n",
      "Predictions of class 1 -- Tested - 2 and Correct - 2\n",
      "Accuracy -- 100.0%\n"
     ]
    }
   ],
   "source": [
    "correct_0 = 0\n",
    "correct_1 = 0\n",
    "tested_0 = 0\n",
    "tested_1 = 0\n",
    "for rows in range(0,len(tf_x)):\n",
    "    prediction_0 = 1\n",
    "    prediction_1 = 1\n",
    "    for features in range(0,len(tf_x[rows])):\n",
    "        prediction_0 *= (jp[0][features][int(tf_x[rows][features])]/(1-py))\n",
    "        prediction_1 *= (jp[1][features][int(tf_x[rows][features])]/py)\n",
    "    prediction_0 *= (1-py)\n",
    "    prediction_1 *= py\n",
    "    if prediction_0 >= prediction_1:\n",
    "        if tf_y[rows] == '0':\n",
    "            correct_0 += 1\n",
    "            tested_0 += 1\n",
    "        else:\n",
    "            tested_1 += 1\n",
    "    else:\n",
    "        if tf_y[rows] == '1':\n",
    "            correct_1 += 1\n",
    "            tested_1 += 1\n",
    "        else:\n",
    "            tested_0 += 1\n",
    "\n",
    "print \"Without Add-1 Smoothing\"\n",
    "print \"Predictions of class 0 -- Tested - \"+str(tested_0)+\" and Correct - \"+str(correct_0)\n",
    "print \"Predictions of class 1 -- Tested - \"+str(tested_1)+\" and Correct - \"+str(correct_1)\n",
    "print \"Accuracy -- \"+str(((float(correct_0)+correct_1)/(tested_0+tested_1))*100)+\"%\""
   ]
  },
  {
   "cell_type": "code",
   "execution_count": 236,
   "metadata": {},
   "outputs": [
    {
     "name": "stdout",
     "output_type": "stream",
     "text": [
      "With Add-1 Smoothing\n",
      "Predictions of class 0 -- Tested - 2 and Correct - 2\n",
      "Predictions of class 1 -- Tested - 2 and Correct - 2\n",
      "Accuracy -- 100.0%\n"
     ]
    }
   ],
   "source": [
    "correct_0 = 0\n",
    "correct_1 = 0\n",
    "tested_0 = 0\n",
    "tested_1 = 0\n",
    "for rows in range(0,len(tf_x)):\n",
    "    prediction_0 = 1\n",
    "    prediction_1 = 1\n",
    "    for features in range(0,len(tf_x[rows])):\n",
    "        prediction_0 *= (jp_add_1[0][features][int(tf_x[rows][features])]/(1-py))\n",
    "        prediction_1 *= (jp_add_1[1][features][int(tf_x[rows][features])]/py)\n",
    "    prediction_0 *= (1-py)\n",
    "    prediction_1 *= py\n",
    "    if prediction_0 >= prediction_1:\n",
    "        if tf_y[rows] == '0':\n",
    "            correct_0 += 1\n",
    "            tested_0 += 1\n",
    "        else:\n",
    "            tested_1 += 1\n",
    "    else:\n",
    "        if tf_y[rows] == '1':\n",
    "            correct_1 += 1\n",
    "            tested_1 += 1\n",
    "        else:\n",
    "            tested_0 += 1\n",
    "\n",
    "print \"With Add-1 Smoothing\"\n",
    "print \"Predictions of class 0 -- Tested - \"+str(tested_0)+\" and Correct - \"+str(correct_0)\n",
    "print \"Predictions of class 1 -- Tested - \"+str(tested_1)+\" and Correct - \"+str(correct_1)\n",
    "print \"Accuracy -- \"+str(((float(correct_0)+correct_1)/(tested_0+tested_1))*100)+\"%\""
   ]
  }
 ],
 "metadata": {
  "kernelspec": {
   "display_name": "Python 2",
   "language": "python",
   "name": "python2"
  },
  "language_info": {
   "codemirror_mode": {
    "name": "ipython",
    "version": 2
   },
   "file_extension": ".py",
   "mimetype": "text/x-python",
   "name": "python",
   "nbconvert_exporter": "python",
   "pygments_lexer": "ipython2",
   "version": "2.7.10"
  }
 },
 "nbformat": 4,
 "nbformat_minor": 2
}
