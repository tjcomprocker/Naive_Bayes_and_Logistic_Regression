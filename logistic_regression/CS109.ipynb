{
 "cells": [
  {
   "cell_type": "code",
   "execution_count": 141,
   "metadata": {},
   "outputs": [],
   "source": [
    "import random\n",
    "import math\n",
    "\n",
    "df_x = []\n",
    "df_y = []\n",
    "with open(\"netflix-train.txt\") as fp:  \n",
    "    content = fp.readlines()\n",
    "    for lines in content[2:-1]:\n",
    "        lines = lines[:-1].split(\" \")\n",
    "        lines[-2] = lines[-2][:-1]\n",
    "        df_x.append(lines[:-1])\n",
    "        df_y.append(lines[-1])\n",
    "\n",
    "temp = content[-1].split(\" \")\n",
    "temp[-2] = temp[-2][:-1]\n",
    "df_x.append(temp[:-1])\n",
    "df_y.append(temp[-1])"
   ]
  },
  {
   "cell_type": "code",
   "execution_count": 142,
   "metadata": {},
   "outputs": [],
   "source": [
    "def sigmoid(x, t):\n",
    "    return 1/(1+math.exp(sum(float(i[0])*float(i[1]) for i in zip(x, t)))*-1)"
   ]
  },
  {
   "cell_type": "code",
   "execution_count": 151,
   "metadata": {},
   "outputs": [],
   "source": [
    "eta = 0.0001\n",
    "epochs = 500\n",
    "m = len(df_x[1])\n",
    "theta = []\n",
    "gradient = []\n",
    "\n",
    "for i in range(0,m):\n",
    "    theta.append(random.uniform(0.001,10.000))\n",
    "\n",
    "for epoch in range(0,epochs):\n",
    "    gradient = []\n",
    "    for i in range(0,m):\n",
    "        gradient.append(0.0)\n",
    "    for rows in range(0,len(df_x)):\n",
    "        for feature in range(0,len(df_x[rows])):\n",
    "            gradient[feature] += ((float(df_y[rows]) - sigmoid(df_x[rows],theta)) * int(df_x[rows][feature]))\n",
    "    for i in range(0,m):\n",
    "        theta[i] += eta*gradient[i]"
   ]
  },
  {
   "cell_type": "code",
   "execution_count": 149,
   "metadata": {},
   "outputs": [],
   "source": [
    "tf_x = []\n",
    "tf_y = []\n",
    "with open(\"netflix-test.txt\") as fp:  \n",
    "    content = fp.readlines()\n",
    "    for lines in content[2:-1]:\n",
    "        lines = lines[:-1].split(\" \")\n",
    "        lines[-2] = lines[-2][:-1]\n",
    "        tf_x.append(lines[:-1])\n",
    "        tf_y.append(lines[-1])\n",
    "\n",
    "temp = content[-1].split(\" \")\n",
    "temp[-2] = temp[-2][:-1]\n",
    "tf_x.append(temp[:-1])\n",
    "tf_y.append(temp[-1])"
   ]
  },
  {
   "cell_type": "code",
   "execution_count": 152,
   "metadata": {},
   "outputs": [
    {
     "name": "stdout",
     "output_type": "stream",
     "text": [
      "Predictions of class 0 -- Tested - 495 and Correct - 423\n",
      "Predictions of class 1 -- Tested - 102 and Correct - 42\n",
      "Accuracy -- 77.8894472362%\n"
     ]
    }
   ],
   "source": [
    "correct_0 = 0\n",
    "correct_1 = 0\n",
    "tested_0 = 0\n",
    "tested_1 = 0\n",
    "for rows in range(0,len(tf_x)):\n",
    "    if sigmoid(tf_x[rows],theta) <= 0.5:\n",
    "        if tf_y[rows] == '0':\n",
    "            correct_0 += 1\n",
    "            tested_0 += 1\n",
    "        else:\n",
    "            tested_1 += 1\n",
    "    else:\n",
    "        if tf_y[rows] == '1':\n",
    "            correct_1 += 1\n",
    "            tested_1 += 1\n",
    "        else:\n",
    "            tested_0 += 1\n",
    "\n",
    "print \"Predictions of class 0 -- Tested - \"+str(tested_0)+\" and Correct - \"+str(correct_0)\n",
    "print \"Predictions of class 1 -- Tested - \"+str(tested_1)+\" and Correct - \"+str(correct_1)\n",
    "print \"Accuracy -- \"+str(((float(correct_0)+correct_1)/(tested_0+tested_1))*100)+\"%\""
   ]
  }
 ],
 "metadata": {
  "kernelspec": {
   "display_name": "Python 2",
   "language": "python",
   "name": "python2"
  }
 },
 "nbformat": 4,
 "nbformat_minor": 2
}
